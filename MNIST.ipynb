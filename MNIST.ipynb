{
  "nbformat": 4,
  "nbformat_minor": 0,
  "metadata": {
    "colab": {
      "name": "MNIST.ipynb",
      "provenance": [],
      "collapsed_sections": []
    },
    "kernelspec": {
      "name": "python3",
      "display_name": "Python 3"
    }
  },
  "cells": [
    {
      "cell_type": "code",
      "metadata": {
        "id": "QVIUkJmykTNB",
        "colab_type": "code",
        "colab": {}
      },
      "source": [
        "from keras.datasets import mnist\n",
        "import tensorflow as tf\n",
        "import keras"
      ],
      "execution_count": null,
      "outputs": []
    },
    {
      "cell_type": "code",
      "metadata": {
        "id": "aD4JzD3Zk1ih",
        "colab_type": "code",
        "colab": {}
      },
      "source": [
        "(X_train, y_train), (X_test, y_test) = mnist.load_data()"
      ],
      "execution_count": null,
      "outputs": []
    },
    {
      "cell_type": "code",
      "metadata": {
        "id": "0EnNMUx2pKqy",
        "colab_type": "code",
        "colab": {
          "base_uri": "https://localhost:8080/",
          "height": 34
        },
        "outputId": "39ee6e4a-c072-4bc2-a2c4-7fe8e4da578e"
      },
      "source": [
        "print(y_train[0])"
      ],
      "execution_count": null,
      "outputs": [
        {
          "output_type": "stream",
          "text": [
            "5\n"
          ],
          "name": "stdout"
        }
      ]
    },
    {
      "cell_type": "code",
      "metadata": {
        "id": "i4uiu5O2lCsf",
        "colab_type": "code",
        "colab": {
          "base_uri": "https://localhost:8080/",
          "height": 34
        },
        "outputId": "f4cd5957-c05a-425d-f83c-62d805ae7405"
      },
      "source": [
        "print(X_train.shape, y_train.shape)"
      ],
      "execution_count": null,
      "outputs": [
        {
          "output_type": "stream",
          "text": [
            "(60000, 28, 28) (60000,)\n"
          ],
          "name": "stdout"
        }
      ]
    },
    {
      "cell_type": "code",
      "metadata": {
        "id": "JBDYT3AZmiOS",
        "colab_type": "code",
        "colab": {
          "base_uri": "https://localhost:8080/",
          "height": 34
        },
        "outputId": "a9cd2ea2-5e06-40cf-cf89-b2d82a9b3653"
      },
      "source": [
        "print(X_test.shape, y_test.shape)"
      ],
      "execution_count": null,
      "outputs": [
        {
          "output_type": "stream",
          "text": [
            "(10000, 28, 28) (10000,)\n"
          ],
          "name": "stdout"
        }
      ]
    },
    {
      "cell_type": "code",
      "metadata": {
        "id": "gzUrFyZplQfZ",
        "colab_type": "code",
        "colab": {}
      },
      "source": [
        "#data preprocessing\n",
        "X_train = X_train.reshape(X_train.shape[0], 28, 28, 1)\n",
        "X_test= X_test.reshape(X_test.shape[0], 28, 28, 1)\n",
        "\n",
        "input_shape = (28, 28, 1)\n"
      ],
      "execution_count": null,
      "outputs": []
    },
    {
      "cell_type": "code",
      "metadata": {
        "id": "M9RaJ6qEw5kg",
        "colab_type": "code",
        "colab": {}
      },
      "source": [
        "X_train = X_train.astype('float32')\n",
        "X_test = X_test.astype('float32')\n",
        "\n",
        "X_train /= 255\n",
        "X_test /= 255"
      ],
      "execution_count": null,
      "outputs": []
    },
    {
      "cell_type": "code",
      "metadata": {
        "id": "qf12XOzbmyVY",
        "colab_type": "code",
        "colab": {}
      },
      "source": [
        "#Converting teh class vectors to binary class matrices\n",
        "y_train = keras.utils.to_categorical(y_train, 10)\n",
        "y_test = keras.utils.to_categorical(y_test, 10)"
      ],
      "execution_count": null,
      "outputs": []
    },
    {
      "cell_type": "code",
      "metadata": {
        "id": "xWolCXU9nx-y",
        "colab_type": "code",
        "colab": {
          "base_uri": "https://localhost:8080/",
          "height": 34
        },
        "outputId": "a2be05b1-b956-4c82-a1c3-6bfeb5ee17be"
      },
      "source": [
        "print(y_train[0]) #the first digit of x_train is 5"
      ],
      "execution_count": null,
      "outputs": [
        {
          "output_type": "stream",
          "text": [
            "[0. 0. 0. 0. 0. 1. 0. 0. 0. 0.]\n"
          ],
          "name": "stdout"
        }
      ]
    },
    {
      "cell_type": "code",
      "metadata": {
        "id": "KYJ0wOqtrIKt",
        "colab_type": "code",
        "colab": {}
      },
      "source": [
        "model = tf.keras.models.Sequential()\n",
        "\n",
        "model.add(tf.keras.layers.Conv2D(filters = 32, kernel_size= (3,3), input_shape=input_shape))\n",
        "model.add(tf.keras.layers.Conv2D(filters=64, kernel_size= (3,3) , activation='relu'))\n",
        "\n",
        "model.add(tf.keras.layers.MaxPool2D(pool_size=2, strides=2))\n",
        "model.add(tf.keras.layers.Dropout(0.25))\n",
        "model.add(tf.keras.layers.Flatten())\n",
        "\n",
        "model.add(tf.keras.layers.Dense(256, activation = 'relu'))\n",
        "model.add(tf.keras.layers.Dropout(0.5))\n",
        "model.add(tf.keras.layers.Dense(10, activation = 'softmax'))\n",
        "\n",
        "model.compile(loss = 'categorical_crossentropy', optimizer = 'adam', metrics = ['accuracy'])\n"
      ],
      "execution_count": null,
      "outputs": []
    },
    {
      "cell_type": "code",
      "metadata": {
        "id": "uPgAQ317bs_7",
        "colab_type": "code",
        "colab": {
          "base_uri": "https://localhost:8080/",
          "height": 420
        },
        "outputId": "e4f6ce50-8359-4648-d65f-ffc231ca0d27"
      },
      "source": [
        "model.summary()"
      ],
      "execution_count": null,
      "outputs": [
        {
          "output_type": "stream",
          "text": [
            "Model: \"sequential_6\"\n",
            "_________________________________________________________________\n",
            "Layer (type)                 Output Shape              Param #   \n",
            "=================================================================\n",
            "conv2d_8 (Conv2D)            (None, 26, 26, 32)        320       \n",
            "_________________________________________________________________\n",
            "conv2d_9 (Conv2D)            (None, 24, 24, 64)        18496     \n",
            "_________________________________________________________________\n",
            "max_pooling2d_2 (MaxPooling2 (None, 12, 12, 64)        0         \n",
            "_________________________________________________________________\n",
            "dropout_4 (Dropout)          (None, 12, 12, 64)        0         \n",
            "_________________________________________________________________\n",
            "flatten_2 (Flatten)          (None, 9216)              0         \n",
            "_________________________________________________________________\n",
            "dense_3 (Dense)              (None, 256)               2359552   \n",
            "_________________________________________________________________\n",
            "dropout_5 (Dropout)          (None, 256)               0         \n",
            "_________________________________________________________________\n",
            "dense_4 (Dense)              (None, 10)                2570      \n",
            "=================================================================\n",
            "Total params: 2,380,938\n",
            "Trainable params: 2,380,938\n",
            "Non-trainable params: 0\n",
            "_________________________________________________________________\n"
          ],
          "name": "stdout"
        }
      ]
    },
    {
      "cell_type": "code",
      "metadata": {
        "id": "w_I1ol-zv5Wu",
        "colab_type": "code",
        "colab": {
          "base_uri": "https://localhost:8080/",
          "height": 1000
        },
        "outputId": "f199c992-b8e4-4c4c-95f6-53a5b01609ae"
      },
      "source": [
        "hist = model.fit(X_train, y_train, batch_size = 128, epochs = 50, verbose = 1, validation_data=(X_test, y_test))\n",
        "\n",
        "model.save('mnist.h5')"
      ],
      "execution_count": null,
      "outputs": [
        {
          "output_type": "stream",
          "text": [
            "Epoch 1/50\n",
            "469/469 [==============================] - 148s 315ms/step - loss: 0.0059 - accuracy: 0.9983 - val_loss: 0.0527 - val_accuracy: 0.9923\n",
            "Epoch 2/50\n",
            "469/469 [==============================] - 148s 315ms/step - loss: 0.0048 - accuracy: 0.9987 - val_loss: 0.0518 - val_accuracy: 0.9925\n",
            "Epoch 3/50\n",
            "469/469 [==============================] - 149s 317ms/step - loss: 0.0043 - accuracy: 0.9987 - val_loss: 0.0509 - val_accuracy: 0.9918\n",
            "Epoch 4/50\n",
            "469/469 [==============================] - 148s 317ms/step - loss: 0.0037 - accuracy: 0.9989 - val_loss: 0.0493 - val_accuracy: 0.9922\n",
            "Epoch 5/50\n",
            "469/469 [==============================] - 148s 315ms/step - loss: 0.0051 - accuracy: 0.9985 - val_loss: 0.0496 - val_accuracy: 0.9919\n",
            "Epoch 6/50\n",
            "469/469 [==============================] - 148s 316ms/step - loss: 0.0057 - accuracy: 0.9983 - val_loss: 0.0582 - val_accuracy: 0.9919\n",
            "Epoch 7/50\n",
            "469/469 [==============================] - 147s 314ms/step - loss: 0.0046 - accuracy: 0.9987 - val_loss: 0.0549 - val_accuracy: 0.9927\n",
            "Epoch 8/50\n",
            "469/469 [==============================] - 148s 316ms/step - loss: 0.0052 - accuracy: 0.9986 - val_loss: 0.0591 - val_accuracy: 0.9915\n",
            "Epoch 9/50\n",
            "469/469 [==============================] - 148s 316ms/step - loss: 0.0048 - accuracy: 0.9985 - val_loss: 0.0587 - val_accuracy: 0.9917\n",
            "Epoch 10/50\n",
            "469/469 [==============================] - 149s 318ms/step - loss: 0.0036 - accuracy: 0.9988 - val_loss: 0.0587 - val_accuracy: 0.9930\n",
            "Epoch 11/50\n",
            "469/469 [==============================] - 148s 315ms/step - loss: 0.0045 - accuracy: 0.9987 - val_loss: 0.0590 - val_accuracy: 0.9928\n",
            "Epoch 12/50\n",
            "469/469 [==============================] - 149s 318ms/step - loss: 0.0074 - accuracy: 0.9980 - val_loss: 0.0606 - val_accuracy: 0.9910\n",
            "Epoch 13/50\n",
            "469/469 [==============================] - 152s 324ms/step - loss: 0.0042 - accuracy: 0.9988 - val_loss: 0.0580 - val_accuracy: 0.9919\n",
            "Epoch 14/50\n",
            "469/469 [==============================] - 149s 317ms/step - loss: 0.0049 - accuracy: 0.9985 - val_loss: 0.0577 - val_accuracy: 0.9922\n",
            "Epoch 15/50\n",
            "469/469 [==============================] - 149s 318ms/step - loss: 0.0036 - accuracy: 0.9989 - val_loss: 0.0681 - val_accuracy: 0.9922\n",
            "Epoch 16/50\n",
            "469/469 [==============================] - 149s 317ms/step - loss: 0.0065 - accuracy: 0.9983 - val_loss: 0.0592 - val_accuracy: 0.9915\n",
            "Epoch 17/50\n",
            "469/469 [==============================] - 155s 330ms/step - loss: 0.0056 - accuracy: 0.9983 - val_loss: 0.0504 - val_accuracy: 0.9919\n",
            "Epoch 18/50\n",
            "469/469 [==============================] - 149s 317ms/step - loss: 0.0047 - accuracy: 0.9986 - val_loss: 0.0650 - val_accuracy: 0.9918\n",
            "Epoch 19/50\n",
            "469/469 [==============================] - 149s 317ms/step - loss: 0.0038 - accuracy: 0.9987 - val_loss: 0.0641 - val_accuracy: 0.9927\n",
            "Epoch 20/50\n",
            "469/469 [==============================] - 149s 318ms/step - loss: 0.0057 - accuracy: 0.9981 - val_loss: 0.0724 - val_accuracy: 0.9918\n",
            "Epoch 21/50\n",
            "469/469 [==============================] - 149s 319ms/step - loss: 0.0046 - accuracy: 0.9988 - val_loss: 0.0655 - val_accuracy: 0.9926\n",
            "Epoch 22/50\n",
            "469/469 [==============================] - 149s 318ms/step - loss: 0.0048 - accuracy: 0.9985 - val_loss: 0.0715 - val_accuracy: 0.9918\n",
            "Epoch 23/50\n",
            "469/469 [==============================] - 150s 319ms/step - loss: 0.0048 - accuracy: 0.9985 - val_loss: 0.0803 - val_accuracy: 0.9924\n",
            "Epoch 24/50\n",
            "469/469 [==============================] - 149s 318ms/step - loss: 0.0055 - accuracy: 0.9985 - val_loss: 0.0678 - val_accuracy: 0.9923\n",
            "Epoch 25/50\n",
            "469/469 [==============================] - 148s 317ms/step - loss: 0.0042 - accuracy: 0.9989 - val_loss: 0.0646 - val_accuracy: 0.9927\n",
            "Epoch 26/50\n",
            "469/469 [==============================] - 148s 315ms/step - loss: 0.0063 - accuracy: 0.9985 - val_loss: 0.0606 - val_accuracy: 0.9909\n",
            "Epoch 27/50\n",
            "469/469 [==============================] - 150s 319ms/step - loss: 0.0042 - accuracy: 0.9985 - val_loss: 0.0621 - val_accuracy: 0.9919\n",
            "Epoch 28/50\n",
            "469/469 [==============================] - 149s 318ms/step - loss: 0.0043 - accuracy: 0.9988 - val_loss: 0.0642 - val_accuracy: 0.9924\n",
            "Epoch 29/50\n",
            "469/469 [==============================] - 150s 319ms/step - loss: 0.0050 - accuracy: 0.9987 - val_loss: 0.0651 - val_accuracy: 0.9926\n",
            "Epoch 30/50\n",
            "469/469 [==============================] - 149s 318ms/step - loss: 0.0047 - accuracy: 0.9987 - val_loss: 0.0756 - val_accuracy: 0.9920\n",
            "Epoch 31/50\n",
            "469/469 [==============================] - 150s 321ms/step - loss: 0.0035 - accuracy: 0.9991 - val_loss: 0.0658 - val_accuracy: 0.9928\n",
            "Epoch 32/50\n",
            "469/469 [==============================] - 149s 319ms/step - loss: 0.0043 - accuracy: 0.9988 - val_loss: 0.0645 - val_accuracy: 0.9928\n",
            "Epoch 33/50\n",
            "469/469 [==============================] - 150s 320ms/step - loss: 0.0055 - accuracy: 0.9986 - val_loss: 0.0750 - val_accuracy: 0.9921\n",
            "Epoch 34/50\n",
            "469/469 [==============================] - 148s 316ms/step - loss: 0.0044 - accuracy: 0.9988 - val_loss: 0.0866 - val_accuracy: 0.9915\n",
            "Epoch 35/50\n",
            "469/469 [==============================] - 149s 318ms/step - loss: 0.0054 - accuracy: 0.9986 - val_loss: 0.0620 - val_accuracy: 0.9918\n",
            "Epoch 36/50\n",
            "469/469 [==============================] - 148s 315ms/step - loss: 0.0055 - accuracy: 0.9986 - val_loss: 0.0617 - val_accuracy: 0.9924\n",
            "Epoch 37/50\n",
            "469/469 [==============================] - 148s 316ms/step - loss: 0.0050 - accuracy: 0.9986 - val_loss: 0.0639 - val_accuracy: 0.9922\n",
            "Epoch 38/50\n",
            "469/469 [==============================] - 149s 317ms/step - loss: 0.0038 - accuracy: 0.9990 - val_loss: 0.0568 - val_accuracy: 0.9920\n",
            "Epoch 39/50\n",
            "469/469 [==============================] - 152s 325ms/step - loss: 0.0033 - accuracy: 0.9990 - val_loss: 0.0771 - val_accuracy: 0.9920\n",
            "Epoch 40/50\n",
            "469/469 [==============================] - 150s 320ms/step - loss: 0.0049 - accuracy: 0.9987 - val_loss: 0.0705 - val_accuracy: 0.9923\n",
            "Epoch 41/50\n",
            "469/469 [==============================] - 149s 318ms/step - loss: 0.0052 - accuracy: 0.9988 - val_loss: 0.0775 - val_accuracy: 0.9925\n",
            "Epoch 42/50\n",
            "469/469 [==============================] - 149s 318ms/step - loss: 0.0041 - accuracy: 0.9988 - val_loss: 0.0703 - val_accuracy: 0.9926\n",
            "Epoch 43/50\n",
            "469/469 [==============================] - 155s 330ms/step - loss: 0.0046 - accuracy: 0.9987 - val_loss: 0.0675 - val_accuracy: 0.9917\n",
            "Epoch 44/50\n",
            "469/469 [==============================] - 150s 319ms/step - loss: 0.0036 - accuracy: 0.9991 - val_loss: 0.0705 - val_accuracy: 0.9928\n",
            "Epoch 45/50\n",
            "469/469 [==============================] - 149s 318ms/step - loss: 0.0050 - accuracy: 0.9985 - val_loss: 0.0739 - val_accuracy: 0.9927\n",
            "Epoch 46/50\n",
            "469/469 [==============================] - 149s 318ms/step - loss: 0.0048 - accuracy: 0.9987 - val_loss: 0.0750 - val_accuracy: 0.9920\n",
            "Epoch 47/50\n",
            "469/469 [==============================] - 149s 317ms/step - loss: 0.0041 - accuracy: 0.9988 - val_loss: 0.0845 - val_accuracy: 0.9920\n",
            "Epoch 48/50\n",
            "469/469 [==============================] - 149s 318ms/step - loss: 0.0040 - accuracy: 0.9989 - val_loss: 0.0685 - val_accuracy: 0.9927\n",
            "Epoch 49/50\n",
            "469/469 [==============================] - 149s 317ms/step - loss: 0.0042 - accuracy: 0.9991 - val_loss: 0.0855 - val_accuracy: 0.9923\n",
            "Epoch 50/50\n",
            "469/469 [==============================] - 149s 317ms/step - loss: 0.0044 - accuracy: 0.9988 - val_loss: 0.0822 - val_accuracy: 0.9923\n"
          ],
          "name": "stdout"
        }
      ]
    },
    {
      "cell_type": "code",
      "metadata": {
        "id": "dXgc86TPxUu1",
        "colab_type": "code",
        "colab": {
          "base_uri": "https://localhost:8080/",
          "height": 50
        },
        "outputId": "ca41ecd2-2c13-4687-b61d-97162cb94ba3"
      },
      "source": [
        "score = model.evaluate(X_test, y_test, verbose=0)\n",
        "print('Test loss:', score[0])\n",
        "print('Test accuracy %:', score[1]*100)"
      ],
      "execution_count": null,
      "outputs": [
        {
          "output_type": "stream",
          "text": [
            "Test loss: 0.08221498876810074\n",
            "Test accuracy %: 99.22999739646912\n"
          ],
          "name": "stdout"
        }
      ]
    },
    {
      "cell_type": "code",
      "metadata": {
        "id": "Lc13zgabKDZN",
        "colab_type": "code",
        "colab": {}
      },
      "source": [
        ""
      ],
      "execution_count": null,
      "outputs": []
    }
  ]
}